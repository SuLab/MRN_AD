{
 "cells": [
  {
   "cell_type": "markdown",
   "metadata": {},
   "source": [
    "# Compound report Generation\n",
    "\n",
    "This takes each compound from our top 100 for Alzhemier's Disease identified in the previous step, and then\n",
    "for each endpoint (also definied in the previous step) determines which genes have the most influence. It also produces a separate file for non-gene concepts that have the most influcence (not currently used)."
   ]
  },
  {
   "cell_type": "code",
   "execution_count": 27,
   "metadata": {},
   "outputs": [],
   "source": [
    "import json\n",
    "import numpy as np\n",
    "import pandas as pd\n",
    "from pathlib import Path\n",
    "from collections import defaultdict\n",
    "\n",
    "import utils\n",
    "from data_tools import graphs as gt"
   ]
  },
  {
   "cell_type": "code",
   "execution_count": 2,
   "metadata": {},
   "outputs": [],
   "source": [
    "n, e = utils.load_network()"
   ]
  },
  {
   "cell_type": "code",
   "execution_count": 3,
   "metadata": {},
   "outputs": [],
   "source": [
    "id_to_name = n.set_index('id')['name'].to_dict()"
   ]
  },
  {
   "cell_type": "code",
   "execution_count": 4,
   "metadata": {},
   "outputs": [],
   "source": [
    "c = gt.combine_nodes_and_edges(n, e)"
   ]
  },
  {
   "cell_type": "code",
   "execution_count": 5,
   "metadata": {},
   "outputs": [],
   "source": [
    "alz_id = 'DOID:10652'"
   ]
  },
  {
   "cell_type": "code",
   "execution_count": 6,
   "metadata": {},
   "outputs": [],
   "source": [
    "def find_subname(substr, label=None):\n",
    "    if label is not None:\n",
    "        nodes = n.query('label == @label')\n",
    "    else:\n",
    "        nodes = n\n",
    "    return nodes[nodes['name'].str.lower().str.contains(substr.lower())]"
   ]
  },
  {
   "cell_type": "code",
   "execution_count": 7,
   "metadata": {},
   "outputs": [],
   "source": [
    "data_param = utils.load_params()"
   ]
  },
  {
   "cell_type": "code",
   "execution_count": 8,
   "metadata": {},
   "outputs": [
    {
     "data": {
      "text/html": [
       "<div>\n",
       "<style scoped>\n",
       "    .dataframe tbody tr th:only-of-type {\n",
       "        vertical-align: middle;\n",
       "    }\n",
       "\n",
       "    .dataframe tbody tr th {\n",
       "        vertical-align: top;\n",
       "    }\n",
       "\n",
       "    .dataframe thead th {\n",
       "        text-align: right;\n",
       "    }\n",
       "</style>\n",
       "<table border=\"1\" class=\"dataframe\">\n",
       "  <thead>\n",
       "    <tr style=\"text-align: right;\">\n",
       "      <th></th>\n",
       "      <th>chemicalsubstance_id</th>\n",
       "      <th>disease_id</th>\n",
       "      <th>status</th>\n",
       "      <th>proba</th>\n",
       "      <th>cid</th>\n",
       "      <th>did</th>\n",
       "      <th>treat_proba</th>\n",
       "      <th>dementia_proba</th>\n",
       "      <th>apraxia_proba</th>\n",
       "      <th>abnormality_of_mitochondrial_metabolism_proba</th>\n",
       "      <th>...</th>\n",
       "      <th>negative_regulation_of_neuroinflammatory_response_proba</th>\n",
       "      <th>protein_import_into_mitochondrial_matrix_proba</th>\n",
       "      <th>mini_excitatory_postsynaptic_potential_proba</th>\n",
       "      <th>evoked_excitatory_postsynaptic_potential_proba</th>\n",
       "      <th>negative_regulation_of_astrocyte_activation_proba</th>\n",
       "      <th>neuroinflammatory_response_proba</th>\n",
       "      <th>stress-induced_mitochondrial_fusion_proba</th>\n",
       "      <th>positive_regulation_of_nmda_glutamate_receptor_activity_proba</th>\n",
       "      <th>tau-protein_kinase_activity_proba</th>\n",
       "      <th>astrocyte_activation_involved_in_immune_response_proba</th>\n",
       "    </tr>\n",
       "  </thead>\n",
       "  <tbody>\n",
       "    <tr>\n",
       "      <th>0</th>\n",
       "      <td>CHEBI:8354</td>\n",
       "      <td>DOID:10652</td>\n",
       "      <td>0</td>\n",
       "      <td>0.777562</td>\n",
       "      <td>pralidoxime</td>\n",
       "      <td>Alzheimer's disease</td>\n",
       "      <td>1.000000</td>\n",
       "      <td>1.000000</td>\n",
       "      <td>0.038108</td>\n",
       "      <td>0.894264</td>\n",
       "      <td>...</td>\n",
       "      <td>0.068867</td>\n",
       "      <td>0.000000</td>\n",
       "      <td>0.107494</td>\n",
       "      <td>0.090951</td>\n",
       "      <td>0.016399</td>\n",
       "      <td>0.040318</td>\n",
       "      <td>0.000000</td>\n",
       "      <td>0.050407</td>\n",
       "      <td>0.198083</td>\n",
       "      <td>0.058200</td>\n",
       "    </tr>\n",
       "    <tr>\n",
       "      <th>1</th>\n",
       "      <td>CHEBI:8892</td>\n",
       "      <td>DOID:10652</td>\n",
       "      <td>0</td>\n",
       "      <td>0.741301</td>\n",
       "      <td>rosiglitazone maleate</td>\n",
       "      <td>Alzheimer's disease</td>\n",
       "      <td>0.916298</td>\n",
       "      <td>0.590014</td>\n",
       "      <td>0.166400</td>\n",
       "      <td>0.060238</td>\n",
       "      <td>...</td>\n",
       "      <td>0.652547</td>\n",
       "      <td>0.437979</td>\n",
       "      <td>0.579645</td>\n",
       "      <td>0.676068</td>\n",
       "      <td>0.508406</td>\n",
       "      <td>0.667096</td>\n",
       "      <td>0.046816</td>\n",
       "      <td>0.469879</td>\n",
       "      <td>0.567980</td>\n",
       "      <td>0.468558</td>\n",
       "    </tr>\n",
       "  </tbody>\n",
       "</table>\n",
       "<p>2 rows × 29 columns</p>\n",
       "</div>"
      ],
      "text/plain": [
       "  chemicalsubstance_id  disease_id  status     proba                    cid  \\\n",
       "0           CHEBI:8354  DOID:10652       0  0.777562            pralidoxime   \n",
       "1           CHEBI:8892  DOID:10652       0  0.741301  rosiglitazone maleate   \n",
       "\n",
       "                   did  treat_proba  dementia_proba  apraxia_proba  \\\n",
       "0  Alzheimer's disease     1.000000        1.000000       0.038108   \n",
       "1  Alzheimer's disease     0.916298        0.590014       0.166400   \n",
       "\n",
       "   abnormality_of_mitochondrial_metabolism_proba  ...  \\\n",
       "0                                       0.894264  ...   \n",
       "1                                       0.060238  ...   \n",
       "\n",
       "   negative_regulation_of_neuroinflammatory_response_proba  \\\n",
       "0                                           0.068867         \n",
       "1                                           0.652547         \n",
       "\n",
       "   protein_import_into_mitochondrial_matrix_proba  \\\n",
       "0                                        0.000000   \n",
       "1                                        0.437979   \n",
       "\n",
       "   mini_excitatory_postsynaptic_potential_proba  \\\n",
       "0                                      0.107494   \n",
       "1                                      0.579645   \n",
       "\n",
       "   evoked_excitatory_postsynaptic_potential_proba  \\\n",
       "0                                        0.090951   \n",
       "1                                        0.676068   \n",
       "\n",
       "   negative_regulation_of_astrocyte_activation_proba  \\\n",
       "0                                           0.016399   \n",
       "1                                           0.508406   \n",
       "\n",
       "   neuroinflammatory_response_proba  \\\n",
       "0                          0.040318   \n",
       "1                          0.667096   \n",
       "\n",
       "   stress-induced_mitochondrial_fusion_proba  \\\n",
       "0                                   0.000000   \n",
       "1                                   0.046816   \n",
       "\n",
       "   positive_regulation_of_nmda_glutamate_receptor_activity_proba  \\\n",
       "0                                           0.050407               \n",
       "1                                           0.469879               \n",
       "\n",
       "   tau-protein_kinase_activity_proba  \\\n",
       "0                           0.198083   \n",
       "1                           0.567980   \n",
       "\n",
       "   astrocyte_activation_involved_in_immune_response_proba  \n",
       "0                                           0.058200       \n",
       "1                                           0.468558       \n",
       "\n",
       "[2 rows x 29 columns]"
      ]
     },
     "execution_count": 8,
     "metadata": {},
     "output_type": "execute_result"
    }
   ],
   "source": [
    "data_dir = Path('../2_pipeline/AD_Endpoints/out/').resolve()\n",
    "\n",
    "probas = pd.read_csv(data_dir.joinpath('top_100_probas.csv'))\n",
    "probas.head(2)"
   ]
  },
  {
   "cell_type": "code",
   "execution_count": 9,
   "metadata": {},
   "outputs": [],
   "source": [
    "top_100_comp = probas['chemicalsubstance_id'].tolist()"
   ]
  },
  {
   "cell_type": "code",
   "execution_count": 10,
   "metadata": {},
   "outputs": [],
   "source": [
    "import seaborn as sns\n",
    "import matplotlib.pyplot as plt"
   ]
  },
  {
   "cell_type": "code",
   "execution_count": 11,
   "metadata": {},
   "outputs": [],
   "source": [
    "gene_counts = c.query('start_id in @top_100_comp and end_label == \"MacromolecularMachine\"').drop_duplicates(subset=['end_id'])['start_name'].value_counts()"
   ]
  },
  {
   "cell_type": "code",
   "execution_count": 12,
   "metadata": {},
   "outputs": [
    {
     "data": {
      "image/png": "[encoded data removed]",
      "text/plain": [
       "<Figure size 432x288 with 1 Axes>"
      ]
     },
     "metadata": {
      "needs_background": "light"
     },
     "output_type": "display_data"
    }
   ],
   "source": [
    "sns.distplot(gene_counts, kde=False)\n",
    "plt.xlabel('Number of gene connections');"
   ]
  },
  {
   "cell_type": "code",
   "execution_count": 13,
   "metadata": {},
   "outputs": [
    {
     "data": {
      "text/plain": [
       "Dietary Fats                         3657\n",
       "Tobacco Smoke Pollution              2848\n",
       "benzo[a]pyrene                       2559\n",
       "2,4,5,2',4',5'-hexachlorobiphenyl    1703\n",
       "ammonium chloride                    1325\n",
       "hydroxyzine hydrochloride            1115\n",
       "cadmium dichloride                    850\n",
       "Lipopolysaccharides                   842\n",
       "copper(II) sulfate                    747\n",
       "cyclosporin A                         619\n",
       "diarsenic trioxide                    587\n",
       "doxorubicin                           519\n",
       "Cu2+                                  488\n",
       "sodium arsenite                       467\n",
       "Dichlorodiphenyl Dichloroethylene     327\n",
       "valproic acid                         300\n",
       "dexamethasone                         277\n",
       "17beta-estradiol                      233\n",
       "ethynodiol diacetate                  212\n",
       "Tetrachlorodibenzodioxin              165\n",
       "Name: start_name, dtype: int64"
      ]
     },
     "execution_count": 13,
     "metadata": {},
     "output_type": "execute_result"
    }
   ],
   "source": [
    "gene_counts.head(20)"
   ]
  },
  {
   "cell_type": "code",
   "execution_count": 14,
   "metadata": {},
   "outputs": [
    {
     "data": {
      "text/plain": [
       "linoleic acid                                                                            5\n",
       "edrophonium                                                                              5\n",
       "potassium chloride                                                                       5\n",
       "N-methyl-3-phenyl-3-[4-(trifluoromethyl)phenoxy]propan-1-amine                           5\n",
       "brucine                                                                                  5\n",
       "phorbol 13-acetate 12-myristate                                                          5\n",
       "SB 203580                                                                                4\n",
       "aluminium trichloride                                                                    4\n",
       "(R)-noradrenaline                                                                        4\n",
       "(R,R)-tramadol                                                                           4\n",
       "methylene blue                                                                           4\n",
       "5-methoxy-2-\\{[(4-methoxy-3,5-dimethylpyridin-2-yl)methyl]sulfinyl\\}-1H-benzimidazole    3\n",
       "(25R)-cholest-5-ene-3beta,26-diol                                                        3\n",
       "Calcium                                                                                  3\n",
       "isoflurane                                                                               1\n",
       "thymidine                                                                                1\n",
       "ginsenoside Rg1                                                                          1\n",
       "neostigmine                                                                              1\n",
       "pralidoxime                                                                              1\n",
       "ranitidine                                                                               1\n",
       "Name: start_name, dtype: int64"
      ]
     },
     "execution_count": 14,
     "metadata": {},
     "output_type": "execute_result"
    }
   ],
   "source": [
    "gene_counts.tail(20)"
   ]
  },
  {
   "cell_type": "code",
   "execution_count": 15,
   "metadata": {},
   "outputs": [],
   "source": [
    "low_gene = gene_counts.tail(10).sample(1, random_state=0).index[0]\n",
    "low_gene = n.query('name == @low_gene')['id'].tolist()[0]"
   ]
  },
  {
   "cell_type": "code",
   "execution_count": 16,
   "metadata": {},
   "outputs": [],
   "source": [
    "high_gene = gene_counts.head(10).sample(1, random_state=1).index[0]\n",
    "high_gene = n.query('name == @high_gene')['id'].tolist()[0]"
   ]
  },
  {
   "cell_type": "markdown",
   "metadata": {},
   "source": [
    "# Start with High Gene"
   ]
  },
  {
   "cell_type": "code",
   "execution_count": 17,
   "metadata": {},
   "outputs": [],
   "source": [
    "from plot_utils import MFGPathPlotter"
   ]
  },
  {
   "cell_type": "code",
   "execution_count": 18,
   "metadata": {},
   "outputs": [
    {
     "data": {
      "text/plain": [
       "'CHEBI:29865'"
      ]
     },
     "execution_count": 18,
     "metadata": {},
     "output_type": "execute_result"
    }
   ],
   "source": [
    "high_gene"
   ]
  },
  {
   "cell_type": "code",
   "execution_count": 19,
   "metadata": {},
   "outputs": [
    {
     "data": {
      "text/plain": [
       "'benzo[a]pyrene'"
      ]
     },
     "execution_count": 19,
     "metadata": {},
     "output_type": "execute_result"
    }
   ],
   "source": [
    "id_to_name[high_gene]"
   ]
  },
  {
   "cell_type": "code",
   "execution_count": 20,
   "metadata": {},
   "outputs": [
    {
     "data": {
      "text/plain": [
       "{'increase_bp': ['GO:0006914',\n",
       "  'GO:0061909',\n",
       "  'GO:0000422',\n",
       "  'GO:0006119',\n",
       "  'GO:0150079',\n",
       "  'GO:0030150',\n",
       "  'GO:0098816',\n",
       "  'GO:0098817',\n",
       "  'GO:0061889'],\n",
       " 'decrease_bp': ['GO:0150076',\n",
       "  'GO:1990046',\n",
       "  'GO:1904783',\n",
       "  'GO:0050321',\n",
       "  'GO:0002265'],\n",
       " 'phenotypes': ['HP:0003287',\n",
       "  'HP:0002185',\n",
       "  'HP:0002120',\n",
       "  'HP:0002354',\n",
       "  'HP:0002423',\n",
       "  'HP:0002446'],\n",
       " 'diseases': ['DOID:1307', 'DOID:0060135']}"
      ]
     },
     "execution_count": 20,
     "metadata": {},
     "output_type": "execute_result"
    }
   ],
   "source": [
    "endpoints = utils.read_json(data_dir.joinpath('endpoints.json'))\n",
    "endpoints"
   ]
  },
  {
   "cell_type": "code",
   "execution_count": 21,
   "metadata": {},
   "outputs": [],
   "source": [
    "param_map = {\n",
    "    'increase_bp': 'CaBP_param.json',\n",
    "    'decrease_bp': 'CiBP_param.json',\n",
    "    'phenotypes': 'CtP_param.json',\n",
    "    'diseases': 'data_param.json'\n",
    "}"
   ]
  },
  {
   "cell_type": "markdown",
   "metadata": {},
   "source": [
    "#### Initialize the feature extractor"
   ]
  },
  {
   "cell_type": "code",
   "execution_count": 22,
   "metadata": {},
   "outputs": [
    {
     "name": "stdout",
     "output_type": "stream",
     "text": [
      "Processing node and edge data...\n",
      "Initializing metagraph...\n",
      "Generating adjacency matrices...\n"
     ]
    },
    {
     "name": "stderr",
     "output_type": "stream",
     "text": [
      "100%|██████████| 68/68 [00:55<00:00,  1.24it/s]\n"
     ]
    },
    {
     "name": "stdout",
     "output_type": "stream",
     "text": [
      "\n",
      "Determining degrees for each node and metaedge\n"
     ]
    },
    {
     "name": "stderr",
     "output_type": "stream",
     "text": [
      "100%|██████████| 68/68 [00:26<00:00,  2.54it/s]\n"
     ]
    },
    {
     "name": "stdout",
     "output_type": "stream",
     "text": [
      "\n",
      "Weighting matrices by degree with dampening factor 0.5665616931869023...\n"
     ]
    },
    {
     "name": "stderr",
     "output_type": "stream",
     "text": [
      "100%|██████████| 68/68 [00:00<00:00, 127.95it/s]\n"
     ]
    }
   ],
   "source": [
    "mgp = MFGPathPlotter()"
   ]
  },
  {
   "cell_type": "markdown",
   "metadata": {},
   "source": [
    "#### Get all paths for a given drug-endpoint pair"
   ]
  },
  {
   "cell_type": "code",
   "execution_count": 23,
   "metadata": {},
   "outputs": [],
   "source": [
    "param_dir = Path('../0_data/manual/').resolve()"
   ]
  },
  {
   "cell_type": "markdown",
   "metadata": {},
   "source": [
    "## Skipping from here to end, as none of this is saved"
   ]
  },
  {
   "cell_type": "code",
   "execution_count": 25,
   "metadata": {},
   "outputs": [
    {
     "name": "stderr",
     "output_type": "stream",
     "text": [
      "100%|██████████| 25/25 [05:51<00:00, 14.07s/it]\n"
     ]
    },
    {
     "ename": "KeyboardInterrupt",
     "evalue": "",
     "output_type": "error",
     "traceback": [
      "\u001b[0;31m---------------------------------------------------------------------------\u001b[0m",
      "\u001b[0;31mKeyboardInterrupt\u001b[0m                         Traceback (most recent call last)",
      "\u001b[0;32m<ipython-input-25-f4f8882f9499>\u001b[0m in \u001b[0;36m<module>\u001b[0;34m()\u001b[0m\n\u001b[1;32m      9\u001b[0m \u001b[0;34m\u001b[0m\u001b[0m\n\u001b[1;32m     10\u001b[0m     \u001b[0;32mfor\u001b[0m \u001b[0mtgt\u001b[0m \u001b[0;32min\u001b[0m \u001b[0mtargets\u001b[0m\u001b[0;34m:\u001b[0m\u001b[0;34m\u001b[0m\u001b[0;34m\u001b[0m\u001b[0m\n\u001b[0;32m---> 11\u001b[0;31m         \u001b[0mpaths\u001b[0m \u001b[0;34m=\u001b[0m \u001b[0mmgp\u001b[0m\u001b[0;34m.\u001b[0m\u001b[0mget_path_info\u001b[0m\u001b[0;34m(\u001b[0m\u001b[0mhigh_gene\u001b[0m\u001b[0;34m,\u001b[0m \u001b[0mtgt\u001b[0m\u001b[0;34m)\u001b[0m\u001b[0;34m\u001b[0m\u001b[0;34m\u001b[0m\u001b[0m\n\u001b[0m\u001b[1;32m     12\u001b[0m \u001b[0;34m\u001b[0m\u001b[0m\n\u001b[1;32m     13\u001b[0m         \u001b[0;32mtry\u001b[0m\u001b[0;34m:\u001b[0m\u001b[0;34m\u001b[0m\u001b[0;34m\u001b[0m\u001b[0m\n",
      "\u001b[0;32m~/projects/MRN_AD/1_code/plot_utils.py\u001b[0m in \u001b[0;36mget_path_info\u001b[0;34m(self, compound, target, n_jobs, mps)\u001b[0m\n\u001b[1;32m    220\u001b[0m             \u001b[0mmps\u001b[0m \u001b[0;34m=\u001b[0m \u001b[0mself\u001b[0m\u001b[0;34m.\u001b[0m\u001b[0mpos_coef\u001b[0m\u001b[0;34m\u001b[0m\u001b[0;34m\u001b[0m\u001b[0m\n\u001b[1;32m    221\u001b[0m \u001b[0;34m\u001b[0m\u001b[0m\n\u001b[0;32m--> 222\u001b[0;31m         \u001b[0mpath_df\u001b[0m \u001b[0;34m=\u001b[0m \u001b[0mpd\u001b[0m\u001b[0;34m.\u001b[0m\u001b[0mDataFrame\u001b[0m\u001b[0;34m(\u001b[0m\u001b[0mself\u001b[0m\u001b[0;34m.\u001b[0m\u001b[0mmg\u001b[0m\u001b[0;34m.\u001b[0m\u001b[0mextract_paths\u001b[0m\u001b[0;34m(\u001b[0m\u001b[0mcompound\u001b[0m\u001b[0;34m,\u001b[0m \u001b[0mtarget\u001b[0m\u001b[0;34m,\u001b[0m \u001b[0mmps\u001b[0m\u001b[0;34m,\u001b[0m \u001b[0mn_jobs\u001b[0m\u001b[0;34m=\u001b[0m\u001b[0mn_jobs\u001b[0m\u001b[0;34m)\u001b[0m\u001b[0;34m)\u001b[0m\u001b[0;34m\u001b[0m\u001b[0;34m\u001b[0m\u001b[0m\n\u001b[0m\u001b[1;32m    223\u001b[0m         \u001b[0;32mif\u001b[0m \u001b[0mlen\u001b[0m\u001b[0;34m(\u001b[0m\u001b[0mpath_df\u001b[0m\u001b[0;34m)\u001b[0m \u001b[0;34m==\u001b[0m \u001b[0;36m0\u001b[0m\u001b[0;34m:\u001b[0m\u001b[0;34m\u001b[0m\u001b[0;34m\u001b[0m\u001b[0m\n\u001b[1;32m    224\u001b[0m             \u001b[0;32mreturn\u001b[0m \u001b[0mfloat\u001b[0m\u001b[0;34m(\u001b[0m\u001b[0;34m'nan'\u001b[0m\u001b[0;34m)\u001b[0m\u001b[0;34m\u001b[0m\u001b[0;34m\u001b[0m\u001b[0m\n",
      "\u001b[0;32m~/software/anaconda3/envs/ml/lib/python3.6/site-packages/hetnet_ml/extractor.py\u001b[0m in \u001b[0;36mextract_paths\u001b[0;34m(self, start_node, end_node, metapaths, mats, n_jobs)\u001b[0m\n\u001b[1;32m    833\u001b[0m                 \u001b[0;32mfor\u001b[0m \u001b[0midx\u001b[0m\u001b[0;34m,\u001b[0m \u001b[0mnode_type\u001b[0m \u001b[0;32min\u001b[0m \u001b[0mzip\u001b[0m\u001b[0;34m(\u001b[0m\u001b[0mres\u001b[0m\u001b[0;34m[\u001b[0m\u001b[0;34m'node_idxs'\u001b[0m\u001b[0;34m]\u001b[0m\u001b[0;34m,\u001b[0m \u001b[0mpath_nodes\u001b[0m\u001b[0;34m[\u001b[0m\u001b[0mres\u001b[0m\u001b[0;34m[\u001b[0m\u001b[0;34m'metapath'\u001b[0m\u001b[0;34m]\u001b[0m\u001b[0;34m]\u001b[0m\u001b[0;34m)\u001b[0m\u001b[0;34m:\u001b[0m\u001b[0;34m\u001b[0m\u001b[0;34m\u001b[0m\u001b[0m\n\u001b[1;32m    834\u001b[0m                     \u001b[0mnode_id\u001b[0m \u001b[0;34m=\u001b[0m \u001b[0mself\u001b[0m\u001b[0;34m.\u001b[0m\u001b[0mindex_to_nid\u001b[0m\u001b[0;34m[\u001b[0m\u001b[0mnode_type\u001b[0m\u001b[0;34m]\u001b[0m\u001b[0;34m[\u001b[0m\u001b[0midx\u001b[0m\u001b[0;34m]\u001b[0m\u001b[0;34m\u001b[0m\u001b[0;34m\u001b[0m\u001b[0m\n\u001b[0;32m--> 835\u001b[0;31m                     \u001b[0mnode\u001b[0m \u001b[0;34m=\u001b[0m \u001b[0mself\u001b[0m\u001b[0;34m.\u001b[0m\u001b[0mnid_to_name\u001b[0m\u001b[0;34m[\u001b[0m\u001b[0mnode_id\u001b[0m\u001b[0;34m]\u001b[0m\u001b[0;34m\u001b[0m\u001b[0;34m\u001b[0m\u001b[0m\n\u001b[0m\u001b[1;32m    836\u001b[0m \u001b[0;34m\u001b[0m\u001b[0m\n\u001b[1;32m    837\u001b[0m                     \u001b[0mnode_ids\u001b[0m\u001b[0;34m.\u001b[0m\u001b[0mappend\u001b[0m\u001b[0;34m(\u001b[0m\u001b[0mnode_id\u001b[0m\u001b[0;34m)\u001b[0m\u001b[0;34m\u001b[0m\u001b[0;34m\u001b[0m\u001b[0m\n",
      "\u001b[0;31mKeyboardInterrupt\u001b[0m: "
     ]
    }
   ],
   "source": [
    "dc = dict() # data container\n",
    "\n",
    "for effect, targets in endpoints.items():\n",
    "    # Set the proper parameters\n",
    "    param = param_map[effect]\n",
    "    mgp.set_params(param_dir.joinpath(param))\n",
    "    \n",
    "    inner_dc = dict()  # Inner data container\n",
    "    \n",
    "    for tgt in targets:\n",
    "        paths = mgp.get_path_info(high_gene, tgt)\n",
    "        \n",
    "        try:\n",
    "            ranks = mgp.rank_connecting_nodes(paths)\n",
    "        except:\n",
    "            ranks = float('nan')\n",
    "        \n",
    "        inner_dc[tgt] = {'paths': paths, 'ranks': ranks}\n",
    "    \n",
    "    dc[effect] = inner_dc"
   ]
  },
  {
   "cell_type": "code",
   "execution_count": null,
   "metadata": {},
   "outputs": [],
   "source": [
    "for k, v in dc.items():\n",
    "    for k1, v1 in v.items():\n",
    "        print(k, k1, '{:,}'.format(len(v1['paths'])))"
   ]
  },
  {
   "cell_type": "markdown",
   "metadata": {},
   "source": [
    "### Do something with the paths"
   ]
  },
  {
   "cell_type": "code",
   "execution_count": null,
   "metadata": {},
   "outputs": [],
   "source": [
    "v1['ranks']"
   ]
  },
  {
   "cell_type": "code",
   "execution_count": null,
   "metadata": {},
   "outputs": [],
   "source": [
    "from sklearn.preprocessing import MinMaxScaler\n",
    "mm = MinMaxScaler()"
   ]
  },
  {
   "cell_type": "code",
   "execution_count": null,
   "metadata": {},
   "outputs": [],
   "source": [
    "gene_result = []\n",
    "query_txt = 'deg_sep == 1 and node_label == \"MacromolecularMachine\"'\n",
    "\n",
    "for effect, values in dc.items():\n",
    "    for tgt, v1 in values.items():\n",
    "        \n",
    "        tgt_name = id_to_name[tgt].lower().replace(' ', '_')\n",
    "        \n",
    "        genes = v1['ranks'].query(query_txt).copy()\n",
    "        genes[tgt_name+'_scaled_metric'] = mm.fit_transform(genes['model_metric'].values.reshape(-1, 1))\n",
    "        gene_result.append(genes.set_index('node_id')[[tgt_name+'_scaled_metric']])\n",
    "\n",
    "        \n",
    "gene_result = pd.concat(gene_result, axis=1)"
   ]
  },
  {
   "cell_type": "code",
   "execution_count": null,
   "metadata": {},
   "outputs": [],
   "source": [
    "val_cols = gene_result.columns\n",
    "gene_result = gene_result.reset_index().rename(columns={'index': 'node_id'})\n",
    "gene_result['mean'] = gene_result[val_cols].mean(axis=1)\n",
    "gene_result['total'] = gene_result[val_cols].T.count()\n",
    "gene_result['zero_fill_mean'] = gene_result[val_cols].fillna(0).mean(axis=1)\n",
    "gene_result['node_name'] = gene_result['node_id'].map(id_to_name)"
   ]
  },
  {
   "cell_type": "code",
   "execution_count": null,
   "metadata": {},
   "outputs": [],
   "source": [
    "len(val_cols)"
   ]
  },
  {
   "cell_type": "code",
   "execution_count": null,
   "metadata": {},
   "outputs": [],
   "source": [
    "gene_result.sort_values('mean', ascending=False).head(30)"
   ]
  },
  {
   "cell_type": "code",
   "execution_count": null,
   "metadata": {},
   "outputs": [],
   "source": [
    "gene_result.sort_values('zero_fill_mean', ascending=False).head(30)"
   ]
  },
  {
   "cell_type": "code",
   "execution_count": null,
   "metadata": {},
   "outputs": [],
   "source": [
    "gene_result.query('total >= 8')"
   ]
  },
  {
   "cell_type": "code",
   "execution_count": null,
   "metadata": {},
   "outputs": [],
   "source": [
    "sns.heatmap(gene_result.sort_values('zero_fill_mean', ascending=False).set_index('node_name').head(15)[val_cols]);"
   ]
  },
  {
   "cell_type": "code",
   "execution_count": null,
   "metadata": {},
   "outputs": [],
   "source": [
    "sns.heatmap(gene_result.sort_values('zero_fill_mean', ascending=False).set_index('node_name')[val_cols]);"
   ]
  },
  {
   "cell_type": "code",
   "execution_count": null,
   "metadata": {},
   "outputs": [],
   "source": [
    "from collections import defaultdict"
   ]
  },
  {
   "cell_type": "code",
   "execution_count": null,
   "metadata": {},
   "outputs": [],
   "source": [
    "test_gene = \"NCBIGene:54209\"\n",
    "tgt_results = defaultdict(list)\n",
    "\n",
    "for effect, values in dc.items():\n",
    "    for tgt, v1 in values.items():\n",
    "        tgt_results[effect].append(mgp.query_path_node(v1['paths'], test_gene))"
   ]
  },
  {
   "cell_type": "code",
   "execution_count": null,
   "metadata": {},
   "outputs": [],
   "source": [
    "first = list(tgt_results.keys())[0]\n",
    "mgp.set_params(param_dir.joinpath(param_map[first]))\n",
    "mgp.draw_top_paths(tgt_results[first][0])"
   ]
  },
  {
   "cell_type": "code",
   "execution_count": null,
   "metadata": {},
   "outputs": [],
   "source": [
    "first = list(tgt_results.keys())[1]\n",
    "mgp.set_params(param_dir.joinpath(param_map[first]))\n",
    "mgp.draw_top_paths(tgt_results[first][2])"
   ]
  },
  {
   "cell_type": "code",
   "execution_count": null,
   "metadata": {},
   "outputs": [],
   "source": [
    "first = list(tgt_results.keys())[2]\n",
    "mgp.set_params(param_dir.joinpath(param_map[first]))\n",
    "mgp.draw_top_paths(tgt_results[first][2])"
   ]
  },
  {
   "cell_type": "code",
   "execution_count": null,
   "metadata": {},
   "outputs": [],
   "source": [
    "first = list(tgt_results.keys())[3]\n",
    "mgp.set_params(param_dir.joinpath(param_map[first]))\n",
    "mgp.draw_top_paths(tgt_results[first][0])"
   ]
  },
  {
   "cell_type": "code",
   "execution_count": null,
   "metadata": {},
   "outputs": [],
   "source": [
    "first = list(tgt_results.keys())[3]\n",
    "mgp.set_params(param_dir.joinpath(param_map[first]))\n",
    "mgp.draw_top_paths(tgt_results[first][1])"
   ]
  },
  {
   "cell_type": "code",
   "execution_count": null,
   "metadata": {},
   "outputs": [],
   "source": [
    "v1['paths']"
   ]
  },
  {
   "cell_type": "code",
   "execution_count": null,
   "metadata": {},
   "outputs": [],
   "source": [
    "other_result = []\n",
    "query_txt = 'deg_sep != 1 or node_label != \"MacromolecularMachine\"'\n",
    "\n",
    "for effect, values in dc.items():\n",
    "    for tgt, v1 in values.items():\n",
    "        \n",
    "        tgt_name = id_to_name[tgt].lower().replace(' ', '_')\n",
    "        others = v1['ranks'].query(query_txt).copy()\n",
    "        \n",
    "        try:\n",
    "            others[tgt_name+'_scaled_metric'] = mm.fit_transform(others['model_metric'].values.reshape(-1, 1))\n",
    "        except ValueError: \n",
    "            others[tgt_name+'_scaled_metric'] = float('nan')\n",
    "\n",
    "        other_result.append(others.set_index('node_id')[[tgt_name+'_scaled_metric']])\n",
    "\n",
    "        \n",
    "other_result = pd.concat(other_result, axis=1)"
   ]
  },
  {
   "cell_type": "code",
   "execution_count": null,
   "metadata": {},
   "outputs": [],
   "source": [
    "val_cols = other_result.columns\n",
    "other_result = other_result.reset_index().rename(columns={'index': 'node_id'})\n",
    "other_result['mean'] = other_result[val_cols].mean(axis=1)\n",
    "other_result['total'] = other_result[val_cols].T.count()\n",
    "other_result['zero_fill_mean'] = other_result[val_cols].fillna(0).mean(axis=1)\n",
    "other_result['node_name'] = other_result['node_id'].map(id_to_name)"
   ]
  },
  {
   "cell_type": "code",
   "execution_count": null,
   "metadata": {},
   "outputs": [],
   "source": [
    "other_result.sort_values('mean', ascending=False).head(30)"
   ]
  },
  {
   "cell_type": "code",
   "execution_count": null,
   "metadata": {},
   "outputs": [],
   "source": [
    "other_result.sort_values('zero_fill_mean', ascending=False).head(30)"
   ]
  },
  {
   "cell_type": "code",
   "execution_count": null,
   "metadata": {},
   "outputs": [],
   "source": [
    "other_result.sort_values(['total', 'mean'], ascending=False).head(30)"
   ]
  },
  {
   "cell_type": "code",
   "execution_count": null,
   "metadata": {},
   "outputs": [],
   "source": [
    "other_result.sort_values('autophagy_scaled_metric', ascending=False).head(30)"
   ]
  },
  {
   "cell_type": "code",
   "execution_count": null,
   "metadata": {},
   "outputs": [],
   "source": [
    "test_node = \"GO:0004497\"\n",
    "tgt_results1 = defaultdict(list)\n",
    "\n",
    "for effect, values in dc.items():\n",
    "    for tgt, v1 in values.items():\n",
    "        tgt_results1[effect].append(mgp.query_path_node(v1['paths'], test_node))"
   ]
  },
  {
   "cell_type": "code",
   "execution_count": null,
   "metadata": {},
   "outputs": [],
   "source": [
    "first = list(tgt_results1.keys())[0]\n",
    "mgp.set_params(param_dir.joinpath(param_map[first]))\n",
    "mgp.draw_top_paths(tgt_results1[first][0])"
   ]
  },
  {
   "cell_type": "code",
   "execution_count": null,
   "metadata": {},
   "outputs": [],
   "source": [
    "first = list(tgt_results1.keys())[3]\n",
    "mgp.set_params(param_dir.joinpath(param_map[first]))\n",
    "mgp.draw_top_paths(tgt_results1[first][0])"
   ]
  },
  {
   "cell_type": "code",
   "execution_count": null,
   "metadata": {},
   "outputs": [],
   "source": [
    "first = list(tgt_results1.keys())[3]\n",
    "mgp.set_params(param_dir.joinpath(param_map[first]))\n",
    "mgp.draw_top_paths(tgt_results1[first][1])"
   ]
  },
  {
   "cell_type": "markdown",
   "metadata": {},
   "source": [
    "# Low degree compound"
   ]
  },
  {
   "cell_type": "code",
   "execution_count": null,
   "metadata": {},
   "outputs": [],
   "source": [
    "dc1 = dict() # data container\n",
    "\n",
    "for effect, targets in endpoints.items():\n",
    "    # Set the proper parameters\n",
    "    param = param_map[effect]\n",
    "    mgp.set_params(param_dir.joinpath(param))\n",
    "    \n",
    "    inner_dc1 = dict()  # Inner data container\n",
    "    \n",
    "    for tgt in targets:\n",
    "        paths = mgp.get_path_info(low_gene, tgt)\n",
    "        \n",
    "        try:\n",
    "            ranks = mgp.rank_connecting_nodes(paths)\n",
    "        except:\n",
    "            ranks = float('nan')\n",
    "        \n",
    "        inner_dc1[tgt] = {'paths': paths, 'ranks': ranks}\n",
    "    \n",
    "    dc1[effect] = inner_dc1"
   ]
  },
  {
   "cell_type": "code",
   "execution_count": null,
   "metadata": {},
   "outputs": [],
   "source": [
    "for k, v in dc1.items():\n",
    "    for k1, v1 in v.items():\n",
    "        try:\n",
    "            print(k, id_to_name[k1], '{:,}'.format(len(v1['paths'])))\n",
    "        except:\n",
    "            print(k, id_to_name[k1], '{:,}'.format(0))\n"
   ]
  },
  {
   "cell_type": "code",
   "execution_count": null,
   "metadata": {},
   "outputs": [],
   "source": [
    "pd.DataFrame({'test': list()})"
   ]
  },
  {
   "cell_type": "code",
   "execution_count": null,
   "metadata": {},
   "outputs": [],
   "source": []
  },
  {
   "cell_type": "code",
   "execution_count": null,
   "metadata": {},
   "outputs": [],
   "source": [
    "gene_result1 = []\n",
    "query_txt = 'deg_sep == 1 and node_label == \"MacromolecularMachine\"'\n",
    "\n",
    "for effect, values in dc1.items():\n",
    "    for tgt, v1 in values.items():\n",
    "        \n",
    "        tgt_name = id_to_name[tgt].lower().replace(' ', '_')\n",
    "        \n",
    "        try:\n",
    "            others = v1['ranks'].query(query_txt).copy()\n",
    "            others[tgt_name+'_scaled_metric'] = mm.fit_transform(others['model_metric'].values.reshape(-1, 1))\n",
    "        except ValueError: \n",
    "            others[tgt_name+'_scaled_metric'] = float('nan')\n",
    "        except AttributeError:\n",
    "            others = pd.DataFrame({tgt_name+'_scaled_metric': list(), 'node_id': list()})\n",
    "\n",
    "        gene_result1.append(others.set_index('node_id')[[tgt_name+'_scaled_metric']])\n",
    "\n",
    "        \n",
    "gene_result1 = pd.concat(gene_result1, axis=1)"
   ]
  },
  {
   "cell_type": "code",
   "execution_count": null,
   "metadata": {},
   "outputs": [],
   "source": [
    "val_cols = gene_result1.columns\n",
    "gene_result1 = gene_result1.reset_index().rename(columns={'index': 'node_id'})\n",
    "gene_result1['mean'] = gene_result1[val_cols].mean(axis=1)\n",
    "gene_result1['total'] = gene_result1[val_cols].T.count()\n",
    "gene_result1['zero_fill_mean'] = gene_result1[val_cols].fillna(0).mean(axis=1)\n",
    "gene_result1['node_name'] = gene_result1['node_id'].map(id_to_name)"
   ]
  },
  {
   "cell_type": "code",
   "execution_count": null,
   "metadata": {},
   "outputs": [],
   "source": [
    "gene_result1.sort_values('mean', ascending=False)"
   ]
  },
  {
   "cell_type": "code",
   "execution_count": null,
   "metadata": {},
   "outputs": [],
   "source": [
    "sns.heatmap(gene_result1.sort_values('mean', ascending=False).set_index('node_name')[val_cols]);"
   ]
  },
  {
   "cell_type": "markdown",
   "metadata": {},
   "source": [
    "# Try on all "
   ]
  },
  {
   "cell_type": "code",
   "execution_count": 24,
   "metadata": {},
   "outputs": [],
   "source": [
    "def rank_nodes_across_endpoints(dc, genes=True, scale=True):\n",
    "    gene_result = []\n",
    "    \n",
    "    if genes:\n",
    "        query_txt = 'deg_sep == 1 and node_label == \"MacromolecularMachine\"'\n",
    "    else:\n",
    "        query_txt = 'deg_sep != 1 or node_label != \"MacromolecularMachine\"'\n",
    "\n",
    "    sel_col = '_scaled_metric' if scale else '_metric'\n",
    "        \n",
    "    for effect, values in dc.items():\n",
    "        for tgt, v1 in values.items():\n",
    "\n",
    "            tgt_name = id_to_name[tgt].lower().replace(' ', '_')\n",
    "\n",
    "            try:\n",
    "                others = v1['ranks'].query(query_txt).copy()\n",
    "                if scale:\n",
    "                    others[tgt_name+sel_col] = mm.fit_transform(others['model_metric'].values.reshape(-1, 1))\n",
    "                else:\n",
    "                    others[tgt_name+sel_col] = others['model_metric'].values\n",
    "            except ValueError: \n",
    "                others[tgt_name+sel_col] = float('nan')\n",
    "            except AttributeError:\n",
    "                others = pd.DataFrame({tgt_name+sel_col: list(), 'node_id': list()})\n",
    "\n",
    "            gene_result.append(others.set_index('node_id')[[tgt_name+sel_col]])\n",
    "\n",
    "\n",
    "    gene_result = pd.concat(gene_result, axis=1)\n",
    "\n",
    "    val_cols = gene_result.columns\n",
    "    gene_result = gene_result.reset_index().rename(columns={'index': 'node_id'})\n",
    "    gene_result['mean'] = gene_result[val_cols].mean(axis=1)\n",
    "    gene_result['total'] = gene_result[val_cols].T.count()\n",
    "    gene_result['zero_fill_mean'] = gene_result[val_cols].fillna(0).mean(axis=1)\n",
    "    gene_result['node_name'] = gene_result['node_id'].map(id_to_name)\n",
    "    \n",
    "    gene_result = gene_result.sort_values('mean', ascending=False).reset_index(drop=True)\n",
    "    \n",
    "    return gene_result[['node_id', 'node_name', 'mean', 'total', 'zero_fill_mean']+val_cols.tolist()]\n"
   ]
  },
  {
   "cell_type": "code",
   "execution_count": null,
   "metadata": {},
   "outputs": [],
   "source": [
    "rank_nodes_across_endpoints(dc1, True, False)"
   ]
  },
  {
   "cell_type": "code",
   "execution_count": 25,
   "metadata": {},
   "outputs": [],
   "source": [
    "out_dir = Path('../2_pipeline').resolve().joinpath('Compound_report_generation', 'out')\n",
    "out_dir.mkdir(exist_ok=True, parents=True)"
   ]
  },
  {
   "cell_type": "markdown",
   "metadata": {},
   "source": [
    "## Get paths"
   ]
  },
  {
   "cell_type": "code",
   "execution_count": null,
   "metadata": {},
   "outputs": [],
   "source": [
    "dc['increase_bp']['GO:0006914']['paths']"
   ]
  },
  {
   "cell_type": "code",
   "execution_count": null,
   "metadata": {},
   "outputs": [
    {
     "name": "stderr",
     "output_type": "stream",
     "text": [
      "100%|██████████| 25/25 [00:00<00:00, 31.04it/s]\n",
      "100%|██████████| 25/25 [00:00<00:00, 38.16it/s]\n",
      "100%|██████████| 25/25 [00:00<00:00, 40.12it/s]\n",
      "100%|██████████| 25/25 [00:00<00:00, 40.42it/s]\n",
      "100%|██████████| 25/25 [00:00<00:00, 40.21it/s]\n",
      "100%|██████████| 25/25 [00:00<00:00, 40.85it/s]\n",
      "100%|██████████| 25/25 [00:00<00:00, 40.19it/s]\n",
      "100%|██████████| 25/25 [00:00<00:00, 41.47it/s]\n",
      "100%|██████████| 25/25 [00:00<00:00, 40.22it/s]\n",
      "100%|██████████| 26/26 [00:00<00:00, 37.70it/s]\n",
      "100%|██████████| 26/26 [00:00<00:00, 35.45it/s]\n",
      "100%|██████████| 26/26 [00:00<00:00, 37.17it/s]\n",
      "100%|██████████| 26/26 [00:00<00:00, 32.13it/s]\n",
      "100%|██████████| 26/26 [00:00<00:00, 36.57it/s]\n",
      "100%|██████████| 142/142 [00:01<00:00, 121.18it/s]\n",
      "100%|██████████| 142/142 [00:01<00:00, 120.13it/s]\n",
      "100%|██████████| 142/142 [00:01<00:00, 119.35it/s]\n",
      "100%|██████████| 142/142 [00:02<00:00, 50.55it/s] \n",
      "100%|██████████| 142/142 [00:01<00:00, 115.38it/s]\n",
      "100%|██████████| 142/142 [00:02<00:00, 59.39it/s] \n",
      "100%|██████████| 89/89 [00:01<00:00, 49.56it/s] \n",
      "100%|██████████| 89/89 [00:00<00:00, 98.68it/s]\n",
      "100%|██████████| 25/25 [01:23<00:00,  3.34s/it]\n",
      "100%|██████████| 25/25 [00:10<00:00,  2.37it/s]\n",
      "100%|██████████| 25/25 [00:18<00:00,  1.36it/s]\n",
      "100%|██████████| 25/25 [00:20<00:00,  1.22it/s]\n",
      "100%|██████████| 25/25 [00:03<00:00,  7.70it/s]\n",
      "100%|██████████| 25/25 [00:03<00:00,  7.75it/s]\n",
      "100%|██████████| 25/25 [00:04<00:00,  5.68it/s]\n",
      "100%|██████████| 25/25 [00:05<00:00,  4.57it/s]\n",
      "100%|██████████| 25/25 [00:03<00:00,  7.84it/s]\n",
      "100%|██████████| 26/26 [00:04<00:00,  6.44it/s]\n",
      "100%|██████████| 26/26 [00:03<00:00,  7.08it/s]\n",
      "100%|██████████| 26/26 [00:03<00:00,  6.83it/s]\n",
      "100%|██████████| 26/26 [00:03<00:00,  7.10it/s]\n",
      "100%|██████████| 26/26 [00:04<00:00,  5.76it/s]\n",
      "100%|██████████| 142/142 [00:36<00:00,  3.86it/s]\n",
      "100%|██████████| 142/142 [00:35<00:00,  4.01it/s]\n",
      "100%|██████████| 142/142 [00:36<00:00,  3.84it/s]\n",
      "100%|██████████| 142/142 [02:09<00:00,  1.10it/s]\n",
      "100%|██████████| 142/142 [00:36<00:00,  3.87it/s]\n",
      "100%|██████████| 142/142 [02:08<00:00,  1.10it/s]\n",
      "100%|██████████| 89/89 [00:41<00:00,  2.13it/s]\n",
      "100%|██████████| 89/89 [00:15<00:00,  5.60it/s]\n",
      "100%|██████████| 25/25 [03:26<00:00,  8.25s/it]\n",
      "100%|██████████| 25/25 [00:23<00:00,  1.05it/s]\n",
      "100%|██████████| 25/25 [00:35<00:00,  1.43s/it]\n",
      "100%|██████████| 25/25 [00:38<00:00,  1.54s/it]\n",
      "100%|██████████| 25/25 [00:06<00:00,  3.84it/s]\n",
      "100%|██████████| 25/25 [00:06<00:00,  3.80it/s]\n",
      "100%|██████████| 25/25 [00:09<00:00,  2.60it/s]\n",
      "100%|██████████| 25/25 [00:11<00:00,  2.11it/s]\n",
      "100%|██████████| 25/25 [00:06<00:00,  3.79it/s]\n",
      "100%|██████████| 26/26 [00:08<00:00,  2.95it/s]\n",
      "100%|██████████| 26/26 [00:06<00:00,  3.81it/s]\n",
      "100%|██████████| 26/26 [00:08<00:00,  3.19it/s]\n",
      "100%|██████████| 26/26 [00:07<00:00,  3.64it/s]\n",
      "100%|██████████| 26/26 [00:09<00:00,  2.64it/s]\n",
      "100%|██████████| 142/142 [01:12<00:00,  1.96it/s]\n",
      "100%|██████████| 142/142 [01:15<00:00,  1.89it/s]\n",
      "100%|██████████| 142/142 [01:14<00:00,  1.91it/s]\n",
      "100%|██████████| 142/142 [03:11<00:00,  1.35s/it]\n",
      "100%|██████████| 142/142 [01:14<00:00,  1.90it/s]\n",
      "100%|██████████| 142/142 [02:55<00:00,  1.24s/it]\n",
      "100%|██████████| 89/89 [01:06<00:00,  1.33it/s]\n",
      "100%|██████████| 89/89 [00:37<00:00,  2.36it/s]\n",
      "100%|██████████| 25/25 [04:18<00:00, 10.33s/it]\n",
      "100%|██████████| 25/25 [00:27<00:00,  1.10s/it]\n",
      "100%|██████████| 25/25 [00:50<00:00,  2.02s/it]\n",
      "100%|██████████| 25/25 [00:46<00:00,  1.87s/it]\n",
      "100%|██████████| 25/25 [00:07<00:00,  3.23it/s]\n",
      "100%|██████████| 25/25 [00:07<00:00,  3.25it/s]\n",
      "100%|██████████| 25/25 [00:11<00:00,  2.22it/s]\n",
      "100%|██████████| 25/25 [00:14<00:00,  1.77it/s]\n",
      "100%|██████████| 25/25 [00:07<00:00,  3.17it/s]\n",
      "100%|██████████| 26/26 [00:10<00:00,  2.42it/s]\n",
      "100%|██████████| 26/26 [00:07<00:00,  3.32it/s]\n",
      "100%|██████████| 26/26 [00:09<00:00,  2.68it/s]\n",
      "100%|██████████| 26/26 [00:07<00:00,  3.35it/s]\n",
      "100%|██████████| 26/26 [00:12<00:00,  2.13it/s]\n",
      "100%|██████████| 142/142 [01:30<00:00,  1.57it/s]\n",
      "100%|██████████| 142/142 [01:33<00:00,  1.52it/s]\n",
      "100%|██████████| 142/142 [01:30<00:00,  1.58it/s]\n",
      "100%|██████████| 142/142 [03:19<00:00,  1.41s/it]\n",
      "100%|██████████| 142/142 [01:30<00:00,  1.56it/s]\n",
      "100%|██████████| 142/142 [03:00<00:00,  1.27s/it]\n",
      "100%|██████████| 89/89 [01:11<00:00,  1.25it/s]\n",
      "100%|██████████| 89/89 [00:46<00:00,  1.93it/s]\n",
      "100%|██████████| 25/25 [02:43<00:00,  6.56s/it]\n",
      "100%|██████████| 25/25 [00:18<00:00,  1.33it/s]\n",
      "100%|██████████| 25/25 [00:28<00:00,  1.14s/it]\n",
      "100%|██████████| 25/25 [00:30<00:00,  1.22s/it]\n",
      "100%|██████████| 25/25 [00:05<00:00,  4.68it/s]\n",
      "100%|██████████| 25/25 [00:05<00:00,  4.72it/s]\n",
      "100%|██████████| 25/25 [00:07<00:00,  3.32it/s]\n",
      "100%|██████████| 25/25 [00:09<00:00,  2.53it/s]\n",
      "100%|██████████| 25/25 [00:05<00:00,  4.62it/s]\n",
      "100%|██████████| 26/26 [00:07<00:00,  3.46it/s]\n",
      "100%|██████████| 26/26 [00:05<00:00,  4.79it/s]\n",
      "100%|██████████| 26/26 [00:06<00:00,  3.87it/s]\n",
      "100%|██████████| 26/26 [00:05<00:00,  4.74it/s]\n",
      "100%|██████████| 26/26 [00:08<00:00,  3.16it/s]\n",
      "100%|██████████| 142/142 [00:58<00:00,  2.41it/s]\n",
      "100%|██████████| 142/142 [01:00<00:00,  2.34it/s]\n",
      "100%|██████████| 142/142 [00:58<00:00,  2.41it/s]\n",
      "100%|██████████| 142/142 [02:53<00:00,  1.22s/it]\n",
      "100%|██████████| 142/142 [01:02<00:00,  2.28it/s]\n",
      "100%|██████████| 142/142 [02:43<00:00,  1.15s/it]\n",
      "100%|██████████| 89/89 [01:11<00:00,  1.25it/s]\n",
      "100%|██████████| 89/89 [00:30<00:00,  2.96it/s]\n",
      "100%|██████████| 25/25 [05:30<00:00, 13.24s/it]\n",
      "100%|██████████| 25/25 [00:39<00:00,  1.59s/it]\n",
      "100%|██████████| 25/25 [01:00<00:00,  2.43s/it]\n",
      "100%|██████████| 25/25 [01:05<00:00,  2.62s/it]\n",
      "100%|██████████| 25/25 [00:12<00:00,  2.04it/s]\n",
      "100%|██████████| 25/25 [00:12<00:00,  2.04it/s]\n",
      "100%|██████████| 25/25 [00:17<00:00,  1.45it/s]\n",
      "100%|██████████| 25/25 [00:21<00:00,  1.14it/s]\n",
      "100%|██████████| 25/25 [00:12<00:00,  2.04it/s]\n",
      "100%|██████████| 26/26 [00:16<00:00,  1.55it/s]\n",
      "100%|██████████| 26/26 [00:12<00:00,  2.10it/s]\n",
      "100%|██████████| 26/26 [00:15<00:00,  1.72it/s]\n",
      "100%|██████████| 26/26 [00:12<00:00,  2.12it/s]\n",
      "100%|██████████| 26/26 [00:19<00:00,  1.37it/s]\n",
      "100%|██████████| 142/142 [02:30<00:00,  1.06s/it]\n",
      "100%|██████████| 142/142 [02:23<00:00,  1.01s/it]\n",
      "100%|██████████| 142/142 [02:28<00:00,  1.05s/it]\n",
      "100%|██████████| 142/142 [03:57<00:00,  1.67s/it]\n",
      "100%|██████████| 142/142 [02:26<00:00,  1.03s/it]\n",
      "100%|██████████| 142/142 [03:47<00:00,  1.60s/it]\n",
      "100%|██████████| 89/89 [01:40<00:00,  1.13s/it]\n",
      "100%|██████████| 89/89 [01:15<00:00,  1.18it/s]\n",
      "100%|██████████| 25/25 [00:07<00:00,  3.19it/s]\n",
      "100%|██████████| 25/25 [00:01<00:00, 18.59it/s]\n",
      "100%|██████████| 25/25 [00:01<00:00, 15.53it/s]\n",
      "100%|██████████| 25/25 [00:01<00:00, 13.72it/s]\n",
      "100%|██████████| 25/25 [00:00<00:00, 29.46it/s]\n",
      "100%|██████████| 25/25 [00:00<00:00, 30.56it/s]\n",
      "100%|██████████| 25/25 [00:01<00:00, 22.11it/s]\n",
      "100%|██████████| 25/25 [00:01<00:00, 22.34it/s]\n",
      "100%|██████████| 25/25 [00:00<00:00, 30.88it/s]\n",
      "100%|██████████| 26/26 [00:01<00:00, 21.37it/s]\n",
      "100%|██████████| 26/26 [00:01<00:00, 24.62it/s]\n",
      "100%|██████████| 26/26 [00:01<00:00, 19.19it/s]\n",
      "100%|██████████| 26/26 [00:01<00:00, 19.53it/s]\n",
      "100%|██████████| 26/26 [00:01<00:00, 18.54it/s]\n",
      "100%|██████████| 142/142 [00:02<00:00, 47.40it/s]\n",
      "100%|██████████| 142/142 [00:03<00:00, 46.52it/s]\n",
      "100%|██████████| 142/142 [00:03<00:00, 47.20it/s]\n",
      "100%|██████████| 142/142 [00:43<00:00,  3.29it/s]\n",
      "100%|██████████| 142/142 [00:02<00:00, 47.36it/s]\n",
      "100%|██████████| 142/142 [00:39<00:00,  3.63it/s]\n",
      "100%|██████████| 89/89 [00:12<00:00,  7.28it/s]\n",
      "100%|██████████| 89/89 [00:01<00:00, 51.02it/s]\n",
      "100%|██████████| 25/25 [00:01<00:00, 13.98it/s]\n",
      "100%|██████████| 25/25 [00:00<00:00, 47.71it/s]\n",
      "100%|██████████| 25/25 [00:00<00:00, 48.42it/s]\n",
      "100%|██████████| 25/25 [00:00<00:00, 43.12it/s]\n",
      "100%|██████████| 25/25 [00:00<00:00, 52.66it/s]\n",
      "100%|██████████| 25/25 [00:00<00:00, 50.20it/s]\n",
      "100%|██████████| 25/25 [00:00<00:00, 51.90it/s]\n",
      "100%|██████████| 25/25 [00:00<00:00, 50.55it/s]\n",
      "100%|██████████| 25/25 [00:00<00:00, 51.65it/s]\n",
      "100%|██████████| 26/26 [00:00<00:00, 33.86it/s]\n",
      "100%|██████████| 26/26 [00:00<00:00, 29.96it/s]\n",
      "100%|██████████| 26/26 [00:00<00:00, 39.99it/s]\n",
      "100%|██████████| 26/26 [00:00<00:00, 30.55it/s]\n",
      "100%|██████████| 26/26 [00:00<00:00, 39.10it/s]\n",
      "100%|██████████| 142/142 [00:01<00:00, 107.66it/s]\n",
      "100%|██████████| 142/142 [00:01<00:00, 101.02it/s]\n",
      "100%|██████████| 142/142 [00:01<00:00, 97.58it/s] \n",
      "100%|██████████| 142/142 [00:07<00:00, 18.31it/s] \n",
      "100%|██████████| 142/142 [00:01<00:00, 88.00it/s] \n",
      "100%|██████████| 142/142 [00:08<00:00, 16.35it/s] \n",
      "100%|██████████| 89/89 [00:04<00:00, 21.88it/s]\n",
      "100%|██████████| 89/89 [00:01<00:00, 81.69it/s] \n",
      "100%|██████████| 25/25 [00:09<00:00,  2.54it/s]\n",
      "100%|██████████| 25/25 [00:01<00:00, 20.75it/s]\n",
      "100%|██████████| 25/25 [00:01<00:00, 13.17it/s]\n",
      "100%|██████████| 25/25 [00:02<00:00,  9.46it/s]\n",
      "100%|██████████| 25/25 [00:00<00:00, 35.81it/s]\n",
      "100%|██████████| 25/25 [00:00<00:00, 33.28it/s]\n",
      "100%|██████████| 25/25 [00:00<00:00, 33.15it/s]\n",
      "100%|██████████| 25/25 [00:00<00:00, 33.02it/s]\n",
      "100%|██████████| 25/25 [00:00<00:00, 31.78it/s]\n",
      "100%|██████████| 26/26 [00:01<00:00, 25.57it/s]\n",
      "100%|██████████| 26/26 [00:01<00:00, 20.69it/s]\n",
      "100%|██████████| 26/26 [00:00<00:00, 26.10it/s]\n",
      "100%|██████████| 26/26 [00:01<00:00, 25.98it/s]\n",
      "100%|██████████| 26/26 [00:01<00:00, 23.48it/s]\n",
      "100%|██████████| 142/142 [00:03<00:00, 36.04it/s]\n",
      "100%|██████████| 142/142 [00:03<00:00, 38.68it/s]\n",
      "100%|██████████| 142/142 [00:03<00:00, 43.11it/s]\n",
      "100%|██████████| 142/142 [00:16<00:00,  8.55it/s]\n",
      "100%|██████████| 142/142 [00:03<00:00, 42.68it/s]\n",
      "100%|██████████| 142/142 [00:16<00:00,  8.85it/s]\n",
      "100%|██████████| 89/89 [00:05<00:00, 16.60it/s]\n",
      "100%|██████████| 89/89 [00:01<00:00, 49.91it/s]\n",
      "100%|██████████| 25/25 [01:33<00:00,  3.74s/it]\n",
      "100%|██████████| 25/25 [00:11<00:00,  2.26it/s]\n",
      "100%|██████████| 25/25 [00:20<00:00,  1.20it/s]\n",
      "100%|██████████| 25/25 [00:18<00:00,  1.37it/s]\n",
      "100%|██████████| 25/25 [00:03<00:00,  6.52it/s]\n",
      "100%|██████████| 25/25 [00:03<00:00,  6.34it/s]\n",
      "100%|██████████| 25/25 [00:04<00:00,  6.01it/s]\n",
      "100%|██████████| 25/25 [00:05<00:00,  4.71it/s]\n",
      "100%|██████████| 25/25 [00:03<00:00,  6.41it/s]\n",
      "100%|██████████| 26/26 [00:04<00:00,  5.81it/s]\n",
      "100%|██████████| 26/26 [00:04<00:00,  5.66it/s]\n",
      "100%|██████████| 26/26 [00:04<00:00,  5.65it/s]\n",
      "100%|██████████| 26/26 [00:04<00:00,  5.99it/s]\n",
      "100%|██████████| 26/26 [00:04<00:00,  5.96it/s]\n",
      "100%|██████████| 142/142 [00:32<00:00,  4.37it/s]\n",
      "100%|██████████| 142/142 [00:34<00:00,  4.09it/s]\n",
      "100%|██████████| 142/142 [00:34<00:00,  4.13it/s]\n",
      "100%|██████████| 142/142 [02:28<00:00,  1.04s/it]\n",
      "100%|██████████| 142/142 [00:33<00:00,  4.23it/s]\n",
      "100%|██████████| 142/142 [02:25<00:00,  1.02s/it]\n",
      "100%|██████████| 89/89 [00:50<00:00,  1.76it/s]\n",
      "100%|██████████| 89/89 [00:25<00:00,  3.56it/s]\n",
      "100%|██████████| 25/25 [01:20<00:00,  3.22s/it]\n",
      "100%|██████████| 25/25 [00:10<00:00,  2.43it/s]\n",
      "100%|██████████| 25/25 [00:19<00:00,  1.30it/s]\n",
      "100%|██████████| 25/25 [00:16<00:00,  1.54it/s]\n",
      "100%|██████████| 25/25 [00:04<00:00,  5.62it/s]\n",
      "100%|██████████| 25/25 [00:04<00:00,  5.76it/s]\n",
      "100%|██████████| 25/25 [00:04<00:00,  5.50it/s]\n",
      "100%|██████████| 25/25 [00:05<00:00,  4.65it/s]\n",
      "100%|██████████| 25/25 [00:04<00:00,  5.91it/s]\n",
      "100%|██████████| 26/26 [00:04<00:00,  5.77it/s]\n",
      "100%|██████████| 26/26 [00:04<00:00,  5.77it/s]\n",
      "100%|██████████| 26/26 [00:04<00:00,  5.43it/s]\n",
      "100%|██████████| 26/26 [00:04<00:00,  5.63it/s]\n",
      "100%|██████████| 26/26 [00:14<00:00,  1.77it/s]\n",
      "100%|██████████| 142/142 [00:35<00:00,  4.00it/s]\n",
      "100%|██████████| 142/142 [00:38<00:00,  3.71it/s]\n",
      "100%|██████████| 142/142 [00:37<00:00,  3.78it/s]\n",
      "100%|██████████| 142/142 [02:40<00:00,  1.13s/it]\n",
      "100%|██████████| 142/142 [00:38<00:00,  3.68it/s]\n",
      "100%|██████████| 142/142 [02:27<00:00,  1.04s/it]\n",
      "100%|██████████| 89/89 [00:53<00:00,  1.67it/s]\n",
      "100%|██████████| 89/89 [00:17<00:00,  5.16it/s]\n",
      "100%|██████████| 25/25 [00:00<00:00, 59.74it/s]\n",
      "100%|██████████| 25/25 [00:00<00:00, 55.99it/s]\n",
      "100%|██████████| 25/25 [00:00<00:00, 53.27it/s]\n",
      "100%|██████████| 25/25 [00:00<00:00, 60.35it/s]\n",
      "100%|██████████| 25/25 [00:00<00:00, 60.31it/s]\n",
      "100%|██████████| 25/25 [00:00<00:00, 58.88it/s]\n",
      "100%|██████████| 25/25 [00:00<00:00, 61.34it/s]\n",
      "100%|██████████| 25/25 [00:00<00:00, 59.01it/s]\n",
      "100%|██████████| 25/25 [00:00<00:00, 55.76it/s]\n",
      "100%|██████████| 26/26 [00:00<00:00, 59.53it/s]\n",
      "100%|██████████| 26/26 [00:00<00:00, 60.53it/s]\n",
      "100%|██████████| 26/26 [00:00<00:00, 58.59it/s]\n",
      "100%|██████████| 26/26 [00:00<00:00, 60.96it/s]\n",
      "100%|██████████| 26/26 [00:00<00:00, 59.96it/s]\n",
      "100%|██████████| 142/142 [00:01<00:00, 134.99it/s]\n",
      "100%|██████████| 142/142 [00:01<00:00, 141.55it/s]\n",
      "100%|██████████| 142/142 [00:01<00:00, 137.42it/s]\n",
      "100%|██████████| 142/142 [00:01<00:00, 138.15it/s]\n",
      "100%|██████████| 142/142 [00:01<00:00, 133.31it/s]\n",
      "100%|██████████| 142/142 [00:01<00:00, 141.14it/s]\n",
      "100%|██████████| 89/89 [00:00<00:00, 111.26it/s]\n",
      "100%|██████████| 89/89 [00:00<00:00, 113.94it/s]\n",
      "100%|██████████| 25/25 [00:05<00:00,  4.90it/s]\n",
      "100%|██████████| 25/25 [00:00<00:00, 31.34it/s]\n",
      "100%|██████████| 25/25 [00:01<00:00, 21.11it/s]\n",
      "100%|██████████| 25/25 [00:01<00:00, 18.31it/s]\n",
      "100%|██████████| 25/25 [00:00<00:00, 32.42it/s]\n",
      "100%|██████████| 25/25 [00:00<00:00, 33.18it/s]\n",
      "100%|██████████| 25/25 [00:00<00:00, 27.14it/s]\n",
      "100%|██████████| 25/25 [00:01<00:00, 23.49it/s]\n",
      "100%|██████████| 25/25 [00:00<00:00, 30.78it/s]\n",
      "100%|██████████| 26/26 [00:01<00:00, 21.96it/s]\n",
      "100%|██████████| 26/26 [00:01<00:00, 24.37it/s]\n",
      "100%|██████████| 26/26 [00:01<00:00, 20.81it/s]\n",
      "100%|██████████| 26/26 [00:00<00:00, 27.70it/s]\n",
      "100%|██████████| 26/26 [00:01<00:00, 23.42it/s]\n",
      "100%|██████████| 142/142 [00:02<00:00, 61.01it/s]\n",
      "100%|██████████| 142/142 [00:02<00:00, 58.34it/s]\n",
      "100%|██████████| 142/142 [00:02<00:00, 61.35it/s]\n",
      "100%|██████████| 142/142 [00:23<00:00,  6.00it/s]\n",
      "100%|██████████| 142/142 [00:02<00:00, 64.37it/s]\n",
      "100%|██████████| 142/142 [00:23<00:00,  6.12it/s]\n",
      "100%|██████████| 89/89 [00:08<00:00, 10.65it/s]\n",
      "100%|██████████| 89/89 [00:01<00:00, 51.38it/s]\n",
      "100%|██████████| 25/25 [01:53<00:00,  4.55s/it]\n",
      "100%|██████████| 25/25 [00:13<00:00,  1.79it/s]\n",
      "100%|██████████| 25/25 [00:20<00:00,  1.21it/s]\n",
      "100%|██████████| 25/25 [00:22<00:00,  1.11it/s]\n",
      "100%|██████████| 25/25 [00:03<00:00,  6.37it/s]\n",
      "100%|██████████| 25/25 [00:03<00:00,  6.34it/s]\n",
      "100%|██████████| 25/25 [00:05<00:00,  4.47it/s]\n",
      "100%|██████████| 25/25 [00:06<00:00,  3.58it/s]\n",
      "100%|██████████| 25/25 [00:03<00:00,  6.37it/s]\n",
      "100%|██████████| 26/26 [00:05<00:00,  4.79it/s]\n",
      "100%|██████████| 26/26 [00:03<00:00,  6.68it/s]\n",
      "100%|██████████| 26/26 [00:05<00:00,  5.20it/s]\n",
      "100%|██████████| 26/26 [00:03<00:00,  6.66it/s]\n",
      "100%|██████████| 26/26 [00:11<00:00,  2.19it/s]\n",
      "100%|██████████| 142/142 [00:42<00:00,  3.31it/s]\n",
      "100%|██████████| 142/142 [00:42<00:00,  3.36it/s]\n",
      "100%|██████████| 142/142 [00:43<00:00,  3.27it/s]\n",
      "100%|██████████| 142/142 [02:31<00:00,  1.07s/it]\n",
      "100%|██████████| 142/142 [00:44<00:00,  3.19it/s]\n",
      "100%|██████████| 142/142 [02:26<00:00,  1.03s/it]\n",
      "100%|██████████| 89/89 [00:49<00:00,  1.79it/s]\n",
      "100%|██████████| 89/89 [00:21<00:00,  4.09it/s]\n",
      "100%|██████████| 25/25 [00:12<00:00,  1.97it/s]\n",
      "100%|██████████| 25/25 [00:01<00:00, 13.10it/s]\n",
      "100%|██████████| 25/25 [00:02<00:00,  9.22it/s]\n",
      "100%|██████████| 25/25 [00:02<00:00,  8.39it/s]\n",
      "100%|██████████| 25/25 [00:01<00:00, 15.40it/s]\n",
      "100%|██████████| 25/25 [00:01<00:00, 18.99it/s]\n",
      "100%|██████████| 25/25 [00:01<00:00, 17.58it/s]\n",
      "100%|██████████| 25/25 [00:01<00:00, 16.77it/s]\n",
      "100%|██████████| 25/25 [00:01<00:00, 18.97it/s]\n",
      "100%|██████████| 26/26 [00:01<00:00, 16.54it/s]\n",
      "100%|██████████| 26/26 [00:02<00:00, 12.99it/s]\n",
      "100%|██████████| 26/26 [00:01<00:00, 14.82it/s]\n",
      "100%|██████████| 26/26 [00:01<00:00, 16.15it/s]\n",
      "100%|██████████| 26/26 [00:01<00:00, 16.31it/s]\n",
      "100%|██████████| 142/142 [00:08<00:00, 17.48it/s]\n",
      "100%|██████████| 142/142 [00:06<00:00, 21.10it/s]\n",
      "100%|██████████| 142/142 [00:07<00:00, 19.77it/s]\n",
      "100%|██████████| 142/142 [01:18<00:00,  1.80it/s]\n",
      "100%|██████████| 142/142 [00:07<00:00, 18.24it/s]\n",
      "100%|██████████| 142/142 [01:18<00:00,  1.81it/s]\n",
      "100%|██████████| 89/89 [00:24<00:00,  3.69it/s]\n",
      "100%|██████████| 89/89 [00:02<00:00, 31.32it/s]\n",
      "100%|██████████| 25/25 [02:53<00:00,  6.94s/it]\n",
      "100%|██████████| 25/25 [00:19<00:00,  1.31it/s]\n",
      "100%|██████████| 25/25 [00:28<00:00,  1.14s/it]\n",
      "100%|██████████| 25/25 [00:31<00:00,  1.26s/it]\n",
      "100%|██████████| 25/25 [00:05<00:00,  4.35it/s]\n",
      "100%|██████████| 25/25 [00:05<00:00,  4.29it/s]\n"
     ]
    },
    {
     "name": "stderr",
     "output_type": "stream",
     "text": [
      "100%|██████████| 25/25 [00:08<00:00,  3.12it/s]\n",
      "100%|██████████| 25/25 [00:09<00:00,  2.51it/s]\n",
      "100%|██████████| 25/25 [00:05<00:00,  4.19it/s]\n",
      "100%|██████████| 26/26 [00:07<00:00,  3.36it/s]\n",
      "100%|██████████| 26/26 [00:06<00:00,  4.18it/s]\n",
      "100%|██████████| 26/26 [00:07<00:00,  3.65it/s]\n",
      "100%|██████████| 26/26 [00:06<00:00,  4.21it/s]\n",
      "100%|██████████| 26/26 [00:08<00:00,  2.92it/s]\n",
      "100%|██████████| 142/142 [01:06<00:00,  2.12it/s]\n",
      "100%|██████████| 142/142 [01:06<00:00,  2.14it/s]\n",
      "100%|██████████| 142/142 [01:08<00:00,  2.06it/s]\n",
      "100%|██████████| 142/142 [03:15<00:00,  1.38s/it]\n",
      "100%|██████████| 142/142 [01:06<00:00,  2.12it/s]\n",
      "100%|██████████| 142/142 [02:58<00:00,  1.26s/it]\n",
      "100%|██████████| 89/89 [01:15<00:00,  1.19it/s]\n",
      "100%|██████████| 89/89 [00:33<00:00,  2.64it/s]\n",
      "100%|██████████| 25/25 [00:00<00:00, 59.23it/s]\n",
      "100%|██████████| 25/25 [00:00<00:00, 57.22it/s]\n",
      "100%|██████████| 25/25 [00:00<00:00, 57.74it/s]\n",
      "100%|██████████| 25/25 [00:00<00:00, 56.58it/s]\n",
      "100%|██████████| 25/25 [00:00<00:00, 59.03it/s]\n",
      "100%|██████████| 25/25 [00:00<00:00, 58.97it/s]\n",
      "100%|██████████| 25/25 [00:00<00:00, 58.31it/s]\n",
      "100%|██████████| 25/25 [00:00<00:00, 56.90it/s]\n",
      "100%|██████████| 25/25 [00:00<00:00, 60.48it/s]\n",
      "100%|██████████| 26/26 [00:00<00:00, 59.25it/s]\n",
      "100%|██████████| 26/26 [00:00<00:00, 57.57it/s]\n",
      "100%|██████████| 26/26 [00:00<00:00, 56.49it/s]\n",
      "100%|██████████| 26/26 [00:00<00:00, 56.54it/s]\n",
      "100%|██████████| 26/26 [00:00<00:00, 57.79it/s]\n",
      "100%|██████████| 142/142 [00:01<00:00, 131.31it/s]\n",
      "100%|██████████| 142/142 [00:01<00:00, 135.32it/s]\n",
      "100%|██████████| 142/142 [00:01<00:00, 139.24it/s]\n",
      "100%|██████████| 142/142 [00:01<00:00, 134.28it/s]\n",
      "100%|██████████| 142/142 [00:01<00:00, 135.97it/s]\n",
      "100%|██████████| 142/142 [00:01<00:00, 130.20it/s]\n",
      "100%|██████████| 89/89 [00:00<00:00, 127.32it/s]\n",
      "100%|██████████| 89/89 [00:00<00:00, 125.60it/s]\n",
      "100%|██████████| 25/25 [03:42<00:00,  8.90s/it]\n",
      " 92%|█████████▏| 23/25 [00:18<00:04,  2.31s/it]"
     ]
    }
   ],
   "source": [
    "pc_res = defaultdict(list)\n",
    "\n",
    "for drug in top_100_comp:\n",
    "    \n",
    "    drug_name = id_to_name[drug].lower().replace(' ', '_')\n",
    "    dc = dict() # data container\n",
    "\n",
    "    pc_res['drug'].append(drug)\n",
    "    pc_res['drug_name'].append(drug_name)\n",
    "    \n",
    "    for effect, targets in endpoints.items():\n",
    "        # Set the proper parameters\n",
    "        param = param_map[effect]\n",
    "        mgp.set_params(param_dir.joinpath(param))\n",
    "\n",
    "        inner_dc = dict()  # Inner data container\n",
    "\n",
    "        # Get the Paths\n",
    "        for tgt in targets:\n",
    "            paths = mgp.get_path_info(drug, tgt)\n",
    "\n",
    "            try:\n",
    "                ranks = mgp.rank_connecting_nodes(paths)\n",
    "            except:\n",
    "                ranks = float('nan')\n",
    "\n",
    "            inner_dc[tgt] = {'paths': paths, 'ranks': ranks}\n",
    "\n",
    "        dc[effect] = inner_dc\n",
    "        \n",
    "        \n",
    "    # Get top concepts and save\n",
    "    gene_res = rank_nodes_across_endpoints(dc, True, False)\n",
    "    gene_res.to_csv(out_dir.joinpath(drug_name+'_tgt_genes.csv'), index=False)\n",
    "    \n",
    "    other_res = rank_nodes_across_endpoints(dc, False, False)\n",
    "    other_res.to_csv(out_dir.joinpath(drug_name+'_concepts.csv'), index=False)\n",
    "    \n",
    "    for k, v in dc.items():\n",
    "        for k1, v1 in v.items():\n",
    "            pc_res[k1].append(len(v1['paths']) if type(v1['paths']) == pd.DataFrame else 0)\n",
    "        \n",
    "pd.DataFrame(pc_res).to_csv(out_dir.joinpath('total_path_count.csv'), index=False)"
   ]
  },
  {
   "cell_type": "code",
   "execution_count": null,
   "metadata": {},
   "outputs": [],
   "source": []
  }
 ],
 "metadata": {
  "kernelspec": {
   "display_name": "Python 3",
   "language": "python",
   "name": "python3"
  },
  "language_info": {
   "codemirror_mode": {
    "name": "ipython",
    "version": 3
   },
   "file_extension": ".py",
   "mimetype": "text/x-python",
   "name": "python",
   "nbconvert_exporter": "python",
   "pygments_lexer": "ipython3",
   "version": "3.6.8"
  }
 },
 "nbformat": 4,
 "nbformat_minor": 2
}
